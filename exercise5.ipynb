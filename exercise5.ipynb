{
  "cells": [
    {
      "cell_type": "markdown",
      "metadata": {
        "id": "t1ZzwQgV5VU7"
      },
      "source": [
        "# Exercise 5"
      ]
    },
    {
      "cell_type": "markdown",
      "metadata": {
        "id": "11guEJH15VVB"
      },
      "source": [
        "#### 1. Create a dictionary of your 10 favorite songs."
      ]
    },
    {
      "cell_type": "markdown",
      "metadata": {
        "id": "MycP8kvy5VVC"
      },
      "source": [
        "Example:\n",
        "\n",
        "|KEY|VALUE|\n",
        "|---|---|\n",
        "|001|My Love|\n",
        "|002|Like a rose|"
      ]
    },
    {
      "cell_type": "code",
      "execution_count": 23,
      "metadata": {
        "id": "opYzfuG55VVD"
      },
      "outputs": [
        {
          "name": "stdout",
          "output_type": "stream",
          "text": [
            "{'001': 'Pasilyo', '002': 'Uhaw', '003': 'Gusto', '004': 'WOW.', '005': 'Circle', '006': 'Hanggang Sa Buwan', '007': 'Fallen', '008': 'White Toyota', '009': 'Stay', '010': 'Seven'}\n"
          ]
        }
      ],
      "source": [
        "favoriteSongs = {\n",
        "    \"001\": \"Pasilyo\",\n",
        "    \"002\": \"Uhaw\",\n",
        "    \"003\": \"Gusto\",\n",
        "    \"004\": \"WOW.\",\n",
        "    \"005\": \"Circle\",\n",
        "    \"006\": \"Hanggang Sa Buwan\",\n",
        "    \"007\": \"Fallen\",\n",
        "    \"008\": \"White Toyota\",\n",
        "    \"009\": \"Stay\",\n",
        "    \"010\": \"Seven\"\n",
        "}\n",
        "print(favoriteSongs)"
      ]
    },
    {
      "cell_type": "markdown",
      "metadata": {
        "id": "MpMuSvjf5VVF"
      },
      "source": [
        "#### 2. Loop through the dictionary by its **key** and **value**"
      ]
    },
    {
      "cell_type": "code",
      "execution_count": 24,
      "metadata": {
        "id": "JWMPiYY05VVG"
      },
      "outputs": [
        {
          "name": "stdout",
          "output_type": "stream",
          "text": [
            "001 Pasilyo\n",
            "002 Uhaw\n",
            "003 Gusto\n",
            "004 WOW.\n",
            "005 Circle\n",
            "006 Hanggang Sa Buwan\n",
            "007 Fallen\n",
            "008 White Toyota\n",
            "009 Stay\n",
            "010 Seven\n"
          ]
        }
      ],
      "source": [
        "for key, value in favoriteSongs.items():\n",
        "    print(key, value)"
      ]
    },
    {
      "cell_type": "markdown",
      "metadata": {
        "id": "zXeB17UB5VVH"
      },
      "source": [
        "#### 3. Add one additional song"
      ]
    },
    {
      "cell_type": "code",
      "execution_count": 25,
      "metadata": {
        "id": "5Lo467g25VVI"
      },
      "outputs": [
        {
          "data": {
            "text/plain": [
              "{'001': 'Pasilyo',\n",
              " '002': 'Uhaw',\n",
              " '003': 'Gusto',\n",
              " '004': 'WOW.',\n",
              " '005': 'Circle',\n",
              " '006': 'Hanggang Sa Buwan',\n",
              " '007': 'Fallen',\n",
              " '008': 'White Toyota',\n",
              " '009': 'Stay',\n",
              " '010': 'Seven',\n",
              " '011': 'WELCOME2DTQ'}"
            ]
          },
          "execution_count": 25,
          "metadata": {},
          "output_type": "execute_result"
        }
      ],
      "source": [
        "favoriteSongs.update({\"011\": \"WELCOME2DTQ\"})\n",
        "favoriteSongs"
      ]
    },
    {
      "cell_type": "markdown",
      "metadata": {
        "id": "y_uRN5785VVJ"
      },
      "source": [
        "#### 4. Remove one song"
      ]
    },
    {
      "cell_type": "code",
      "execution_count": 26,
      "metadata": {
        "id": "IU-V77Ha5VVJ"
      },
      "outputs": [
        {
          "data": {
            "text/plain": [
              "{'001': 'Pasilyo',\n",
              " '002': 'Uhaw',\n",
              " '003': 'Gusto',\n",
              " '004': 'WOW.',\n",
              " '005': 'Circle',\n",
              " '006': 'Hanggang Sa Buwan',\n",
              " '007': 'Fallen',\n",
              " '008': 'White Toyota',\n",
              " '009': 'Stay',\n",
              " '010': 'Seven'}"
            ]
          },
          "execution_count": 26,
          "metadata": {},
          "output_type": "execute_result"
        }
      ],
      "source": [
        "favoriteSongs.pop(\"011\")\n",
        "favoriteSongs"
      ]
    },
    {
      "cell_type": "markdown",
      "metadata": {
        "id": "AsPAJm775VVK"
      },
      "source": [
        "#### 5. Create a nested dictionary of your 10 favorite songs with 5 genres. Display all of the items of the nested dictionary\n",
        "\n",
        "- Each nested dictionary's key should be the genre of the song\n",
        "- Put each song in their respective genre"
      ]
    },
    {
      "cell_type": "markdown",
      "metadata": {
        "id": "it8aNG6R5VVK"
      },
      "source": [
        "Example:\n",
        "\n",
        "\n",
        "|KEY|VALUE|\n",
        "|---|---|\n",
        "|Pop|{001, Baby}|\n",
        "|Rock|{001, Enter Sandman}|"
      ]
    },
    {
      "cell_type": "code",
      "execution_count": 27,
      "metadata": {
        "id": "fKUAMErR5VVK"
      },
      "outputs": [],
      "source": [
        "favoriteSongs = {\n",
        "   \"Indie\" : {\n",
        "       \"001\" : \"Pasilyo\",\n",
        "       \"002\" : \"Uhaw\",\n",
        "       \"003\" : \"Hanggang sa Buwan\",\n",
        "       \"004\" : \"White Toyota\",\n",
        "       \"005\" : \"Circle\"\n",
        "   },\n",
        "   \"RnB\" : {\n",
        "       \"001\" : \"Gusto\"\n",
        "   },\n",
        "   \"Hiphop\" : {\n",
        "       \"001\" : \"WOW.\"\n",
        "   },\n",
        "   \"Pop\" : {\n",
        "       \"001\" : \"Fallen\",\n",
        "       \"002\" : \"Stay\",\n",
        "       \"003\" : \"Seven\"\n",
        "   }\n",
        "}\n"
      ]
    },
    {
      "cell_type": "markdown",
      "metadata": {
        "id": "KWnfKQ_O5VVL"
      },
      "source": [
        "#### 6. Print the first song of the first genre"
      ]
    },
    {
      "cell_type": "code",
      "execution_count": 28,
      "metadata": {
        "id": "2JG0WFik5VVL"
      },
      "outputs": [
        {
          "name": "stdout",
          "output_type": "stream",
          "text": [
            "Pasilyo\n"
          ]
        }
      ],
      "source": [
        "print(favoriteSongs[\"Indie\"][\"001\"])"
      ]
    },
    {
      "cell_type": "markdown",
      "metadata": {
        "id": "RrE32TlN5VVL"
      },
      "source": [
        "#### 7. Print the first song of the last genre"
      ]
    },
    {
      "cell_type": "code",
      "execution_count": 29,
      "metadata": {
        "id": "V5fmU0Y85VVM"
      },
      "outputs": [
        {
          "name": "stdout",
          "output_type": "stream",
          "text": [
            "Fallen\n"
          ]
        }
      ],
      "source": [
        "print(favoriteSongs[\"Pop\"][\"001\"])"
      ]
    }
  ],
  "metadata": {
    "colab": {
      "provenance": []
    },
    "kernelspec": {
      "display_name": "Python 3",
      "language": "python",
      "name": "python3"
    },
    "language_info": {
      "codemirror_mode": {
        "name": "ipython",
        "version": 3
      },
      "file_extension": ".py",
      "mimetype": "text/x-python",
      "name": "python",
      "nbconvert_exporter": "python",
      "pygments_lexer": "ipython3",
      "version": "3.11.5"
    },
    "orig_nbformat": 4
  },
  "nbformat": 4,
  "nbformat_minor": 0
}
